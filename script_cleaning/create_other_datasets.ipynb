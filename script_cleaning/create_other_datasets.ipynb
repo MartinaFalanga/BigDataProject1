{
 "cells": [
  {
   "cell_type": "code",
   "execution_count": 1,
   "id": "160df047",
   "metadata": {},
   "outputs": [],
   "source": [
    "import pandas as pd\n",
    "import warnings"
   ]
  },
  {
   "cell_type": "markdown",
   "id": "30100bff",
   "metadata": {},
   "source": [
    "## Reading of dataset"
   ]
  },
  {
   "cell_type": "code",
   "execution_count": 2,
   "id": "f79a6621",
   "metadata": {},
   "outputs": [],
   "source": [
    "dataset = pd.read_csv(r'..\\dataset\\dataset_clean.csv', sep=',', dtype={'id': int, 'product_id': 'str', 'user_id': 'str', 'help_fulness_numerator': int, 'help_fulness_denominator': int, 'score': int, 'time': 'str', 'text': 'str'})"
   ]
  },
  {
   "cell_type": "code",
   "execution_count": 10,
   "id": "d1493fd7",
   "metadata": {},
   "outputs": [
    {
     "data": {
      "text/html": [
       "<div>\n",
       "<style scoped>\n",
       "    .dataframe tbody tr th:only-of-type {\n",
       "        vertical-align: middle;\n",
       "    }\n",
       "\n",
       "    .dataframe tbody tr th {\n",
       "        vertical-align: top;\n",
       "    }\n",
       "\n",
       "    .dataframe thead th {\n",
       "        text-align: right;\n",
       "    }\n",
       "</style>\n",
       "<table border=\"1\" class=\"dataframe\">\n",
       "  <thead>\n",
       "    <tr style=\"text-align: right;\">\n",
       "      <th></th>\n",
       "      <th>id</th>\n",
       "      <th>product_id</th>\n",
       "      <th>user_id</th>\n",
       "      <th>help_fulness_numerator</th>\n",
       "      <th>help_fulness_denominator</th>\n",
       "      <th>score</th>\n",
       "      <th>time</th>\n",
       "      <th>text</th>\n",
       "    </tr>\n",
       "  </thead>\n",
       "  <tbody>\n",
       "    <tr>\n",
       "      <th>560799</th>\n",
       "      <td>560800</td>\n",
       "      <td>B001EO7N10</td>\n",
       "      <td>A28KG5XORO54AY</td>\n",
       "      <td>0</td>\n",
       "      <td>0</td>\n",
       "      <td>5</td>\n",
       "      <td>1299628800</td>\n",
       "      <td>Great for sesame chicken..this is a good if no...</td>\n",
       "    </tr>\n",
       "    <tr>\n",
       "      <th>560800</th>\n",
       "      <td>560801</td>\n",
       "      <td>B003S1WTCU</td>\n",
       "      <td>A3I8AFVPEE8KI5</td>\n",
       "      <td>0</td>\n",
       "      <td>0</td>\n",
       "      <td>2</td>\n",
       "      <td>1331251200</td>\n",
       "      <td>I'm disappointed with the flavor. The chocolat...</td>\n",
       "    </tr>\n",
       "    <tr>\n",
       "      <th>560801</th>\n",
       "      <td>560802</td>\n",
       "      <td>B004I613EE</td>\n",
       "      <td>A121AA1GQV751Z</td>\n",
       "      <td>2</td>\n",
       "      <td>2</td>\n",
       "      <td>5</td>\n",
       "      <td>1329782400</td>\n",
       "      <td>These stars are small, so you can give 10-15 o...</td>\n",
       "    </tr>\n",
       "    <tr>\n",
       "      <th>560802</th>\n",
       "      <td>560803</td>\n",
       "      <td>B004I613EE</td>\n",
       "      <td>A3IBEVCTXKNOH</td>\n",
       "      <td>1</td>\n",
       "      <td>1</td>\n",
       "      <td>5</td>\n",
       "      <td>1331596800</td>\n",
       "      <td>These are the BEST treats for training and rew...</td>\n",
       "    </tr>\n",
       "    <tr>\n",
       "      <th>560803</th>\n",
       "      <td>560804</td>\n",
       "      <td>B001LR2CU2</td>\n",
       "      <td>A3LGQPJCZVL9UC</td>\n",
       "      <td>0</td>\n",
       "      <td>0</td>\n",
       "      <td>5</td>\n",
       "      <td>1338422400</td>\n",
       "      <td>I am very satisfied ,product is as advertised,...</td>\n",
       "    </tr>\n",
       "  </tbody>\n",
       "</table>\n",
       "</div>"
      ],
      "text/plain": [
       "            id  product_id         user_id  help_fulness_numerator  \\\n",
       "560799  560800  B001EO7N10  A28KG5XORO54AY                       0   \n",
       "560800  560801  B003S1WTCU  A3I8AFVPEE8KI5                       0   \n",
       "560801  560802  B004I613EE  A121AA1GQV751Z                       2   \n",
       "560802  560803  B004I613EE   A3IBEVCTXKNOH                       1   \n",
       "560803  560804  B001LR2CU2  A3LGQPJCZVL9UC                       0   \n",
       "\n",
       "        help_fulness_denominator  score        time  \\\n",
       "560799                         0      5  1299628800   \n",
       "560800                         0      2  1331251200   \n",
       "560801                         2      5  1329782400   \n",
       "560802                         1      5  1331596800   \n",
       "560803                         0      5  1338422400   \n",
       "\n",
       "                                                     text  \n",
       "560799  Great for sesame chicken..this is a good if no...  \n",
       "560800  I'm disappointed with the flavor. The chocolat...  \n",
       "560801  These stars are small, so you can give 10-15 o...  \n",
       "560802  These are the BEST treats for training and rew...  \n",
       "560803  I am very satisfied ,product is as advertised,...  "
      ]
     },
     "execution_count": 10,
     "metadata": {},
     "output_type": "execute_result"
    }
   ],
   "source": [
    "dataset.tail(5)"
   ]
  },
  {
   "cell_type": "code",
   "execution_count": 16,
   "id": "f49fb211",
   "metadata": {},
   "outputs": [
    {
     "data": {
      "text/plain": [
       "560804"
      ]
     },
     "execution_count": 16,
     "metadata": {},
     "output_type": "execute_result"
    }
   ],
   "source": [
    "len(dataset)"
   ]
  },
  {
   "cell_type": "markdown",
   "id": "dce765f7",
   "metadata": {},
   "source": [
    "## Create of doble dimantional dataset"
   ]
  },
  {
   "cell_type": "code",
   "execution_count": 7,
   "id": "bbcd0133",
   "metadata": {},
   "outputs": [],
   "source": [
    "dataset2 = dataset.copy()\n",
    "dataset2['product_id'] = dataset2['product_id'] + '5'"
   ]
  },
  {
   "cell_type": "code",
   "execution_count": 8,
   "id": "74dbbec8",
   "metadata": {},
   "outputs": [
    {
     "data": {
      "text/html": [
       "<div>\n",
       "<style scoped>\n",
       "    .dataframe tbody tr th:only-of-type {\n",
       "        vertical-align: middle;\n",
       "    }\n",
       "\n",
       "    .dataframe tbody tr th {\n",
       "        vertical-align: top;\n",
       "    }\n",
       "\n",
       "    .dataframe thead th {\n",
       "        text-align: right;\n",
       "    }\n",
       "</style>\n",
       "<table border=\"1\" class=\"dataframe\">\n",
       "  <thead>\n",
       "    <tr style=\"text-align: right;\">\n",
       "      <th></th>\n",
       "      <th>id</th>\n",
       "      <th>product_id</th>\n",
       "      <th>user_id</th>\n",
       "      <th>help_fulness_numerator</th>\n",
       "      <th>help_fulness_denominator</th>\n",
       "      <th>score</th>\n",
       "      <th>time</th>\n",
       "      <th>text</th>\n",
       "    </tr>\n",
       "  </thead>\n",
       "  <tbody>\n",
       "    <tr>\n",
       "      <th>0</th>\n",
       "      <td>1</td>\n",
       "      <td>B001E4KFG05</td>\n",
       "      <td>A3SGXH7AUHU8GW</td>\n",
       "      <td>1</td>\n",
       "      <td>1</td>\n",
       "      <td>5</td>\n",
       "      <td>1303862400</td>\n",
       "      <td>I have bought several of the Vitality canned d...</td>\n",
       "    </tr>\n",
       "    <tr>\n",
       "      <th>1</th>\n",
       "      <td>2</td>\n",
       "      <td>B00813GRG45</td>\n",
       "      <td>A1D87F6ZCVE5NK</td>\n",
       "      <td>0</td>\n",
       "      <td>0</td>\n",
       "      <td>1</td>\n",
       "      <td>1346976000</td>\n",
       "      <td>Product arrived labeled as Jumbo Salted Peanut...</td>\n",
       "    </tr>\n",
       "    <tr>\n",
       "      <th>2</th>\n",
       "      <td>3</td>\n",
       "      <td>B000LQOCH05</td>\n",
       "      <td>ABXLMWJIXXAIN</td>\n",
       "      <td>1</td>\n",
       "      <td>1</td>\n",
       "      <td>4</td>\n",
       "      <td>1219017600</td>\n",
       "      <td>This is a confection that has been around a fe...</td>\n",
       "    </tr>\n",
       "    <tr>\n",
       "      <th>3</th>\n",
       "      <td>4</td>\n",
       "      <td>B000UA0QIQ5</td>\n",
       "      <td>A395BORC6FGVXV</td>\n",
       "      <td>3</td>\n",
       "      <td>3</td>\n",
       "      <td>2</td>\n",
       "      <td>1307923200</td>\n",
       "      <td>If you are looking for the secret ingredient i...</td>\n",
       "    </tr>\n",
       "    <tr>\n",
       "      <th>4</th>\n",
       "      <td>5</td>\n",
       "      <td>B006K2ZZ7K5</td>\n",
       "      <td>A1UQRSCLF8GW1T</td>\n",
       "      <td>0</td>\n",
       "      <td>0</td>\n",
       "      <td>5</td>\n",
       "      <td>1350777600</td>\n",
       "      <td>Great taffy at a great price.  There was a wid...</td>\n",
       "    </tr>\n",
       "    <tr>\n",
       "      <th>5</th>\n",
       "      <td>6</td>\n",
       "      <td>B006K2ZZ7K5</td>\n",
       "      <td>ADT0SRK1MGOEU</td>\n",
       "      <td>0</td>\n",
       "      <td>0</td>\n",
       "      <td>4</td>\n",
       "      <td>1342051200</td>\n",
       "      <td>I got a wild hair for taffy and ordered this f...</td>\n",
       "    </tr>\n",
       "    <tr>\n",
       "      <th>6</th>\n",
       "      <td>7</td>\n",
       "      <td>B006K2ZZ7K5</td>\n",
       "      <td>A1SP2KVKFXXRU1</td>\n",
       "      <td>0</td>\n",
       "      <td>0</td>\n",
       "      <td>5</td>\n",
       "      <td>1340150400</td>\n",
       "      <td>This saltwater taffy had great flavors and was...</td>\n",
       "    </tr>\n",
       "    <tr>\n",
       "      <th>7</th>\n",
       "      <td>8</td>\n",
       "      <td>B006K2ZZ7K5</td>\n",
       "      <td>A3JRGQVEQN31IQ</td>\n",
       "      <td>0</td>\n",
       "      <td>0</td>\n",
       "      <td>5</td>\n",
       "      <td>1336003200</td>\n",
       "      <td>This taffy is so good.  It is very soft and ch...</td>\n",
       "    </tr>\n",
       "    <tr>\n",
       "      <th>8</th>\n",
       "      <td>9</td>\n",
       "      <td>B000E7L2R45</td>\n",
       "      <td>A1MZYO9TZK0BBI</td>\n",
       "      <td>1</td>\n",
       "      <td>1</td>\n",
       "      <td>5</td>\n",
       "      <td>1322006400</td>\n",
       "      <td>Right now I'm mostly just sprouting this so my...</td>\n",
       "    </tr>\n",
       "    <tr>\n",
       "      <th>9</th>\n",
       "      <td>10</td>\n",
       "      <td>B00171APVA5</td>\n",
       "      <td>A21BT40VZCCYT4</td>\n",
       "      <td>0</td>\n",
       "      <td>0</td>\n",
       "      <td>5</td>\n",
       "      <td>1351209600</td>\n",
       "      <td>This is a very healthy dog food. Good for thei...</td>\n",
       "    </tr>\n",
       "  </tbody>\n",
       "</table>\n",
       "</div>"
      ],
      "text/plain": [
       "   id   product_id         user_id  help_fulness_numerator  \\\n",
       "0   1  B001E4KFG05  A3SGXH7AUHU8GW                       1   \n",
       "1   2  B00813GRG45  A1D87F6ZCVE5NK                       0   \n",
       "2   3  B000LQOCH05   ABXLMWJIXXAIN                       1   \n",
       "3   4  B000UA0QIQ5  A395BORC6FGVXV                       3   \n",
       "4   5  B006K2ZZ7K5  A1UQRSCLF8GW1T                       0   \n",
       "5   6  B006K2ZZ7K5   ADT0SRK1MGOEU                       0   \n",
       "6   7  B006K2ZZ7K5  A1SP2KVKFXXRU1                       0   \n",
       "7   8  B006K2ZZ7K5  A3JRGQVEQN31IQ                       0   \n",
       "8   9  B000E7L2R45  A1MZYO9TZK0BBI                       1   \n",
       "9  10  B00171APVA5  A21BT40VZCCYT4                       0   \n",
       "\n",
       "   help_fulness_denominator  score        time  \\\n",
       "0                         1      5  1303862400   \n",
       "1                         0      1  1346976000   \n",
       "2                         1      4  1219017600   \n",
       "3                         3      2  1307923200   \n",
       "4                         0      5  1350777600   \n",
       "5                         0      4  1342051200   \n",
       "6                         0      5  1340150400   \n",
       "7                         0      5  1336003200   \n",
       "8                         1      5  1322006400   \n",
       "9                         0      5  1351209600   \n",
       "\n",
       "                                                text  \n",
       "0  I have bought several of the Vitality canned d...  \n",
       "1  Product arrived labeled as Jumbo Salted Peanut...  \n",
       "2  This is a confection that has been around a fe...  \n",
       "3  If you are looking for the secret ingredient i...  \n",
       "4  Great taffy at a great price.  There was a wid...  \n",
       "5  I got a wild hair for taffy and ordered this f...  \n",
       "6  This saltwater taffy had great flavors and was...  \n",
       "7  This taffy is so good.  It is very soft and ch...  \n",
       "8  Right now I'm mostly just sprouting this so my...  \n",
       "9  This is a very healthy dog food. Good for thei...  "
      ]
     },
     "execution_count": 8,
     "metadata": {},
     "output_type": "execute_result"
    }
   ],
   "source": [
    "dataset2.head(10)"
   ]
  },
  {
   "cell_type": "code",
   "execution_count": 9,
   "id": "b32ddaf5",
   "metadata": {},
   "outputs": [
    {
     "data": {
      "text/html": [
       "<div>\n",
       "<style scoped>\n",
       "    .dataframe tbody tr th:only-of-type {\n",
       "        vertical-align: middle;\n",
       "    }\n",
       "\n",
       "    .dataframe tbody tr th {\n",
       "        vertical-align: top;\n",
       "    }\n",
       "\n",
       "    .dataframe thead th {\n",
       "        text-align: right;\n",
       "    }\n",
       "</style>\n",
       "<table border=\"1\" class=\"dataframe\">\n",
       "  <thead>\n",
       "    <tr style=\"text-align: right;\">\n",
       "      <th></th>\n",
       "      <th>id</th>\n",
       "      <th>product_id</th>\n",
       "      <th>user_id</th>\n",
       "      <th>help_fulness_numerator</th>\n",
       "      <th>help_fulness_denominator</th>\n",
       "      <th>score</th>\n",
       "      <th>time</th>\n",
       "      <th>text</th>\n",
       "    </tr>\n",
       "  </thead>\n",
       "  <tbody>\n",
       "    <tr>\n",
       "      <th>560799</th>\n",
       "      <td>560800</td>\n",
       "      <td>B001EO7N105</td>\n",
       "      <td>A28KG5XORO54AY</td>\n",
       "      <td>0</td>\n",
       "      <td>0</td>\n",
       "      <td>5</td>\n",
       "      <td>1299628800</td>\n",
       "      <td>Great for sesame chicken..this is a good if no...</td>\n",
       "    </tr>\n",
       "    <tr>\n",
       "      <th>560800</th>\n",
       "      <td>560801</td>\n",
       "      <td>B003S1WTCU5</td>\n",
       "      <td>A3I8AFVPEE8KI5</td>\n",
       "      <td>0</td>\n",
       "      <td>0</td>\n",
       "      <td>2</td>\n",
       "      <td>1331251200</td>\n",
       "      <td>I'm disappointed with the flavor. The chocolat...</td>\n",
       "    </tr>\n",
       "    <tr>\n",
       "      <th>560801</th>\n",
       "      <td>560802</td>\n",
       "      <td>B004I613EE5</td>\n",
       "      <td>A121AA1GQV751Z</td>\n",
       "      <td>2</td>\n",
       "      <td>2</td>\n",
       "      <td>5</td>\n",
       "      <td>1329782400</td>\n",
       "      <td>These stars are small, so you can give 10-15 o...</td>\n",
       "    </tr>\n",
       "    <tr>\n",
       "      <th>560802</th>\n",
       "      <td>560803</td>\n",
       "      <td>B004I613EE5</td>\n",
       "      <td>A3IBEVCTXKNOH</td>\n",
       "      <td>1</td>\n",
       "      <td>1</td>\n",
       "      <td>5</td>\n",
       "      <td>1331596800</td>\n",
       "      <td>These are the BEST treats for training and rew...</td>\n",
       "    </tr>\n",
       "    <tr>\n",
       "      <th>560803</th>\n",
       "      <td>560804</td>\n",
       "      <td>B001LR2CU25</td>\n",
       "      <td>A3LGQPJCZVL9UC</td>\n",
       "      <td>0</td>\n",
       "      <td>0</td>\n",
       "      <td>5</td>\n",
       "      <td>1338422400</td>\n",
       "      <td>I am very satisfied ,product is as advertised,...</td>\n",
       "    </tr>\n",
       "  </tbody>\n",
       "</table>\n",
       "</div>"
      ],
      "text/plain": [
       "            id   product_id         user_id  help_fulness_numerator  \\\n",
       "560799  560800  B001EO7N105  A28KG5XORO54AY                       0   \n",
       "560800  560801  B003S1WTCU5  A3I8AFVPEE8KI5                       0   \n",
       "560801  560802  B004I613EE5  A121AA1GQV751Z                       2   \n",
       "560802  560803  B004I613EE5   A3IBEVCTXKNOH                       1   \n",
       "560803  560804  B001LR2CU25  A3LGQPJCZVL9UC                       0   \n",
       "\n",
       "        help_fulness_denominator  score        time  \\\n",
       "560799                         0      5  1299628800   \n",
       "560800                         0      2  1331251200   \n",
       "560801                         2      5  1329782400   \n",
       "560802                         1      5  1331596800   \n",
       "560803                         0      5  1338422400   \n",
       "\n",
       "                                                     text  \n",
       "560799  Great for sesame chicken..this is a good if no...  \n",
       "560800  I'm disappointed with the flavor. The chocolat...  \n",
       "560801  These stars are small, so you can give 10-15 o...  \n",
       "560802  These are the BEST treats for training and rew...  \n",
       "560803  I am very satisfied ,product is as advertised,...  "
      ]
     },
     "execution_count": 9,
     "metadata": {},
     "output_type": "execute_result"
    }
   ],
   "source": [
    "dataset_final_two_dimension = pd.concat([dataset, dataset2])\n",
    "dataset_final_two_dimension.tail()"
   ]
  },
  {
   "cell_type": "code",
   "execution_count": 15,
   "id": "3957fb02",
   "metadata": {},
   "outputs": [
    {
     "data": {
      "text/plain": [
       "1121608"
      ]
     },
     "execution_count": 15,
     "metadata": {},
     "output_type": "execute_result"
    }
   ],
   "source": [
    "len(dataset_final_two_dimension)"
   ]
  },
  {
   "cell_type": "markdown",
   "id": "06115335",
   "metadata": {},
   "source": [
    "## Create dataset og 3/4 dimensional"
   ]
  },
  {
   "cell_type": "code",
   "execution_count": 14,
   "id": "4f89abc2",
   "metadata": {},
   "outputs": [
    {
     "data": {
      "text/plain": [
       "841205"
      ]
     },
     "execution_count": 14,
     "metadata": {},
     "output_type": "execute_result"
    }
   ],
   "source": [
    "dataset_final_3_4_dimension = dataset_final_two_dimension.copy()\n",
    "dataset_final_3_4_dimension = dataset_final_3_4_dimension.iloc[:-280403]\n",
    "len(dataset_final_3_4_dimension)"
   ]
  },
  {
   "cell_type": "markdown",
   "id": "7eca8eb5",
   "metadata": {},
   "source": [
    "## Create a new datasets"
   ]
  },
  {
   "cell_type": "code",
   "execution_count": 11,
   "id": "f1c6b261",
   "metadata": {},
   "outputs": [],
   "source": [
    "dataset_final_two_dimension.to_csv(r'..\\dataset\\dataset_doble_dimentional.csv', index=False)"
   ]
  },
  {
   "cell_type": "code",
   "execution_count": 17,
   "id": "c2b1c11f",
   "metadata": {},
   "outputs": [],
   "source": [
    "dataset_final_3_4_dimension.to_csv(r'..\\dataset\\dataset_3_4_dimentional.csv', index=False)"
   ]
  }
 ],
 "metadata": {
  "kernelspec": {
   "display_name": "Python 3 (ipykernel)",
   "language": "python",
   "name": "python3"
  },
  "language_info": {
   "codemirror_mode": {
    "name": "ipython",
    "version": 3
   },
   "file_extension": ".py",
   "mimetype": "text/x-python",
   "name": "python",
   "nbconvert_exporter": "python",
   "pygments_lexer": "ipython3",
   "version": "3.9.13"
  }
 },
 "nbformat": 4,
 "nbformat_minor": 5
}
